{
 "cells": [
  {
   "cell_type": "code",
   "execution_count": 5,
   "metadata": {},
   "outputs": [
    {
     "name": "stdout",
     "output_type": "stream",
     "text": [
      "the area of the circle of radius 2 is = 12.566370614359172\n",
      "the perimeter of the circle of radius 2 is = 12.566370614359172\n"
     ]
    }
   ],
   "source": [
    "#Question 1\n",
    "from math import pi\n",
    "class Circle():\n",
    "    def __init__(self, r):\n",
    "        self.radius = r\n",
    "\n",
    "    def area(self):\n",
    "        return self.radius**2*pi\n",
    "    \n",
    "    def perimeter(self):\n",
    "        return 2*self.radius*pi\n",
    "\n",
    "NewCircle = Circle(2)\n",
    "print('the area of the circle of radius 2 is =',NewCircle.area())\n",
    "print('the perimeter of the circle of radius 2 is =',NewCircle.perimeter())"
   ]
  },
  {
   "cell_type": "code",
   "execution_count": 6,
   "metadata": {},
   "outputs": [
    {
     "name": "stdout",
     "output_type": "stream",
     "text": [
      "[[], [6], [5], [5, 6], [4], [4, 6], [4, 5], [4, 5, 6]]\n"
     ]
    }
   ],
   "source": [
    "#Question 2\n",
    "class unique_sub:\n",
    "    def sub_sets(self, Set):\n",
    "        return self.subsetsRecur([], sorted(Set))\n",
    "    \n",
    "    def subsetsRecur(self, current, Set):\n",
    "        if Set:\n",
    "            return self.subsetsRecur(current, Set[1:]) + self.subsetsRecur(current + [Set[0]], Set[1:])\n",
    "        return [current]\n",
    "\n",
    "print(unique_sub().sub_sets([4,5,6]))"
   ]
  },
  {
   "cell_type": "code",
   "execution_count": 10,
   "metadata": {},
   "outputs": [
    {
     "name": "stdout",
     "output_type": "stream",
     "text": [
      "[[-10, 2, 8], [-7, -3, 10]]\n"
     ]
    }
   ],
   "source": [
    "#Question 3\n",
    "class sum_2_zero:\n",
    "    def threeElement(self, nums):\n",
    "        nums, result, i = sorted(nums), [], 0\n",
    "        while i < len(nums) - 2:\n",
    "            j, k = i + 1, len(nums) - 1\n",
    "            while j < k:\n",
    "                if nums[i] + nums[j] + nums[k] < 0:\n",
    "                    j += 1\n",
    "                elif nums[i] + nums[j] + nums[k] > 0:\n",
    "                    k -= 1\n",
    "                else:\n",
    "                    result.append([nums[i], nums[j], nums[k]])\n",
    "                    j, k = j + 1, k - 1\n",
    "                    while j < k and nums[j] == nums[j - 1]:\n",
    "                        j += 1\n",
    "                    while j < k and nums[k] == nums[k + 1]:\n",
    "                        k -= 1\n",
    "            i += 1\n",
    "            while i < len(nums) - 2 and nums[i] == nums[i - 1]:\n",
    "                i += 1\n",
    "        return result\n",
    "\n",
    "print(sum_2_zero().threeElement([-25, -10, -7, -3, 2, 4, 8, 10]))\n"
   ]
  },
  {
   "cell_type": "code",
   "execution_count": 14,
   "metadata": {},
   "outputs": [
    {
     "name": "stdout",
     "output_type": "stream",
     "text": [
      "2,3\n"
     ]
    }
   ],
   "source": [
    "#Question 4 \n",
    "\n",
    "class pair_element:\n",
    "    def indice_element(self, nums, target):\n",
    "        lookup = {}\n",
    "        for i, num in enumerate(nums):\n",
    "            if target - num in lookup:\n",
    "                return (lookup[target - num], i )\n",
    "            lookup[num] = i\n",
    "print(\"%d,%d\" % pair_element().indice_element((10,20,10,40,50,60,70),50))"
   ]
  },
  {
   "cell_type": "markdown",
   "metadata": {},
   "source": [
    "# instructions"
   ]
  },
  {
   "cell_type": "markdown",
   "metadata": {},
   "source": [
    "Question 1"
   ]
  },
  {
   "cell_type": "code",
   "execution_count": 22,
   "metadata": {},
   "outputs": [
    {
     "name": "stdout",
     "output_type": "stream",
     "text": [
      "(1, 2, 3)\n"
     ]
    }
   ],
   "source": [
    "class Point3D(object):\n",
    "    def __init__(self, x, y, z):\n",
    "        self.x = x\n",
    "        self.y = y\n",
    "        self.z = z\n",
    "    def __repr__(self):\n",
    "        return \"(%d, %d, %d)\" % (self.x, self.y, self.z)\n",
    "        \n",
    "my_point = Point3D(1,2,3)\n",
    "\n",
    "print (my_point)"
   ]
  },
  {
   "cell_type": "code",
   "execution_count": 23,
   "metadata": {},
   "outputs": [
    {
     "name": "stdout",
     "output_type": "stream",
     "text": [
      "the rectangle area is : 12\n",
      "the rectangle perimeter is: 14\n"
     ]
    }
   ],
   "source": [
    "#Question 2\n",
    "class Rectangle():\n",
    "    def __init__(self, l, w):\n",
    "        self.length = l\n",
    "        self.width  = w\n",
    "\n",
    "    def rectangle_area(self):\n",
    "        return self.length*self.width\n",
    "    def rectangle_perimeter(self):\n",
    "        return (self.width+self.length)*2\n",
    "\n",
    "newRectangle = Rectangle(4, 3)\n",
    "print('the rectangle area is :',newRectangle.rectangle_area())\n",
    "print('the rectangle perimeter is:',newRectangle.rectangle_perimeter())"
   ]
  },
  {
   "cell_type": "code",
   "execution_count": 35,
   "metadata": {},
   "outputs": [
    {
     "name": "stdout",
     "output_type": "stream",
     "text": [
      "the area of the circle of radius 2 is = 12.566370614359172\n",
      "the perimeter of the circle of radius 2 is = 12.566370614359172\n",
      " \n",
      "A do not belong to the  cercle\n",
      "\n",
      " A belong to the cercle\n"
     ]
    }
   ],
   "source": [
    "#Question3:\n",
    "\n",
    "from math import pi\n",
    "class Circle():\n",
    "    def __init__(self,cx,cy, r):\n",
    "        self.radius = r\n",
    "        self.center_x = cx\n",
    "        self.center_y = cy\n",
    "\n",
    "    def area(self):\n",
    "        return self.radius**2*pi\n",
    "    \n",
    "    def perimeter(self):\n",
    "        return 2*self.radius*pi\n",
    "    \n",
    "    def isinside_cercle(self,Ax,Ay):\n",
    "        if((Ax-self.center_x)**2+(Ay-self.center_y)**2<=self.radius**2):\n",
    "            print('\\n A belong to the cercle')\n",
    "        else:\n",
    "            print(' \\nA do not belong to the  cercle')\n",
    "\n",
    "NewCircle = Circle(0,0,2)\n",
    "print('the area of the circle of radius 2 is =',NewCircle.area())\n",
    "print('the perimeter of the circle of radius 2 is =',NewCircle.perimeter())\n",
    "NewCircle.isinside_cercle(4,5)\n",
    "NewCircle.isinside_cercle(0,2)\n"
   ]
  },
  {
   "cell_type": "code",
   "execution_count": 36,
   "metadata": {},
   "outputs": [
    {
     "name": "stdout",
     "output_type": "stream",
     "text": [
      "Hello!!! Welcome to the Deposit & Withdrawal Machine\n",
      "\n",
      "Enter amount to be Deposited: 1000.0\n",
      "\n",
      " Amount Deposited: 1000.0\n",
      "\n",
      "Enter amount to be Withdrawn: 500.0\n",
      "\n",
      " You Withdrew: 500.0\n",
      "\n",
      " Net Available Balance= 500.0\n"
     ]
    }
   ],
   "source": [
    "#Question 4:\n",
    "class Bank_Account:\n",
    "    def __init__(self):\n",
    "        self.balance=0\n",
    "        print(\"Hello!!! Welcome to the Deposit & Withdrawal Machine\")\n",
    "  \n",
    "    def deposit(self):\n",
    "        amount=float(input(\"\\nEnter amount to be Deposited: \"))\n",
    "        self.balance += amount\n",
    "        print(\"\\n Amount Deposited:\",amount)\n",
    "  \n",
    "    def withdraw(self):\n",
    "        amount = float(input(\"\\nEnter amount to be Withdrawn: \"))\n",
    "        if self.balance>=amount:\n",
    "            self.balance-=amount\n",
    "            print(\"\\n You Withdrew:\", amount)\n",
    "        else:\n",
    "            print(\"\\n Insufficient balance  \")\n",
    "  \n",
    "    def display(self):\n",
    "        print(\"\\n Net Available Balance=\",self.balance)\n",
    "        \n",
    "s = Bank_Account()\n",
    "   \n",
    "s.deposit()\n",
    "s.withdraw()\n",
    "s.display()"
   ]
  },
  {
   "cell_type": "code",
   "execution_count": null,
   "metadata": {},
   "outputs": [],
   "source": []
  }
 ],
 "metadata": {
  "kernelspec": {
   "display_name": "Python 3",
   "language": "python",
   "name": "python3"
  },
  "language_info": {
   "codemirror_mode": {
    "name": "ipython",
    "version": 3
   },
   "file_extension": ".py",
   "mimetype": "text/x-python",
   "name": "python",
   "nbconvert_exporter": "python",
   "pygments_lexer": "ipython3",
   "version": "3.8.5"
  }
 },
 "nbformat": 4,
 "nbformat_minor": 4
}
